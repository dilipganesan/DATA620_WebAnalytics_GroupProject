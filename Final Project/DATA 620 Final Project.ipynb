{
 "cells": [
  {
   "cell_type": "markdown",
   "metadata": {},
   "source": [
    "# Data 620 Final Project\n",
    "\n",
    "#### - Raghu , Dilip and Ahmed"
   ]
  },
  {
   "cell_type": "markdown",
   "metadata": {},
   "source": [
    "# Overview:\n",
    "\n",
    "   The success and failure of a product sold in amazon can be determined by the customer feedback which helps new customers to gain insight about the product. To minimize the time to read tons of product reviews and at the same time provide the overall summary of reviews, online retailers has to highly rely on recommendation engine.  We would like to analyze on the sentiments associated with specific category “Health and Personal Care” of the products sold in amazon. \n",
    "\n",
    "The objective is to \n",
    "   \n",
    "1. Find a classification model that works best with the data.\n",
    "2. Understanding the topics and words that describe the broad categories of “Health and Personal Care” products sold over Amazon.\n"
   ]
  },
  {
   "cell_type": "markdown",
   "metadata": {},
   "source": [
    "# Data set: \n",
    "    \n",
    "http://snap.stanford.edu/data/amazon/productGraph/categoryFiles/reviews_Health_and_Personal_Care_5.json.gz"
   ]
  },
  {
   "cell_type": "code",
   "execution_count": 1,
   "metadata": {
    "collapsed": true
   },
   "outputs": [],
   "source": [
    "reset -fs"
   ]
  },
  {
   "cell_type": "code",
   "execution_count": 3,
   "metadata": {
    "collapsed": true
   },
   "outputs": [],
   "source": [
    "import gzip\n",
    "import itertools\n",
    "import string\n",
    "import wordcloud\n",
    "import numpy as np\n",
    "import pandas as pd\n",
    "import datetime as dt\n",
    "import matplotlib.pyplot as plt\n",
    "import pylab as pl\n",
    "\n",
    "from collections import Counter\n",
    "from sklearn import svm\n",
    "from sklearn.pipeline import Pipeline, make_pipeline\n",
    "from sklearn.linear_model import LogisticRegression\n",
    "from sklearn.feature_extraction.text import CountVectorizer, TfidfVectorizer\n",
    "from sklearn.decomposition import NMF, LatentDirichletAllocation\n",
    "from sklearn.naive_bayes import MultinomialNB\n",
    "from sklearn.model_selection import train_test_split, cross_val_score\n",
    "from sklearn.model_selection import GridSearchCV\n",
    "from sklearn.metrics import accuracy_score, confusion_matrix, f1_score\n",
    "\n",
    "from nltk import word_tokenize\n",
    "from nltk.corpus import stopwords\n",
    "from nltk.stem.wordnet import WordNetLemmatizer\n",
    "\n",
    "%matplotlib inline"
   ]
  },
  {
   "cell_type": "code",
   "execution_count": 4,
   "metadata": {
    "collapsed": true
   },
   "outputs": [],
   "source": [
    "# Code provided via http://jmcauley.ucsd.edu/data/amazon/\n",
    "\n",
    "import pandas as pd\n",
    "import gzip\n",
    "\n",
    "def parse(path):\n",
    "  g = gzip.open(path, 'rb')\n",
    "  for l in g:\n",
    "    yield eval(l)\n",
    "\n",
    "def getDF(path):\n",
    "  i = 0\n",
    "  df = {}\n",
    "  for d in parse(path):\n",
    "    df[i] = d\n",
    "    i += 1\n",
    "  return pd.DataFrame.from_dict(df, orient='index')\n",
    "\n"
   ]
  },
  {
   "cell_type": "markdown",
   "metadata": {},
   "source": [
    "Convert compressed file of data into Pandas DataFrame"
   ]
  },
  {
   "cell_type": "code",
   "execution_count": 5,
   "metadata": {
    "collapsed": true
   },
   "outputs": [],
   "source": [
    "import os\n",
    "os.chdir('/Users/dilipganesan/Dilip_Docs/CUNY/DATA620_Web_Analytics/Final Project')\n",
    "health_personal = getDF(\"reviews_Health_and_Personal_Care_5.gz\")\n"
   ]
  },
  {
   "cell_type": "code",
   "execution_count": 6,
   "metadata": {},
   "outputs": [
    {
     "name": "stdout",
     "output_type": "stream",
     "text": [
      "Dataset size: 346,355 words\n"
     ]
    }
   ],
   "source": [
    "print('Dataset size: {:,} words'.format(len(health_personal)))"
   ]
  },
  {
   "cell_type": "code",
   "execution_count": 7,
   "metadata": {},
   "outputs": [
    {
     "data": {
      "text/html": [
       "<div>\n",
       "<style>\n",
       "    .dataframe thead tr:only-child th {\n",
       "        text-align: right;\n",
       "    }\n",
       "\n",
       "    .dataframe thead th {\n",
       "        text-align: left;\n",
       "    }\n",
       "\n",
       "    .dataframe tbody tr th {\n",
       "        vertical-align: top;\n",
       "    }\n",
       "</style>\n",
       "<table border=\"1\" class=\"dataframe\">\n",
       "  <thead>\n",
       "    <tr style=\"text-align: right;\">\n",
       "      <th></th>\n",
       "      <th>reviewerID</th>\n",
       "      <th>asin</th>\n",
       "      <th>reviewerName</th>\n",
       "      <th>helpful</th>\n",
       "      <th>reviewText</th>\n",
       "      <th>overall</th>\n",
       "      <th>summary</th>\n",
       "      <th>unixReviewTime</th>\n",
       "      <th>reviewTime</th>\n",
       "    </tr>\n",
       "  </thead>\n",
       "  <tbody>\n",
       "    <tr>\n",
       "      <th>0</th>\n",
       "      <td>ALC5GH8CAMAI7</td>\n",
       "      <td>159985130X</td>\n",
       "      <td>AnnN</td>\n",
       "      <td>[1, 1]</td>\n",
       "      <td>This is a great little gadget to have around. ...</td>\n",
       "      <td>5.0</td>\n",
       "      <td>Handy little gadget</td>\n",
       "      <td>1294185600</td>\n",
       "      <td>01 5, 2011</td>\n",
       "    </tr>\n",
       "    <tr>\n",
       "      <th>1</th>\n",
       "      <td>AHKSURW85PJUE</td>\n",
       "      <td>159985130X</td>\n",
       "      <td>AZ buyer \"AZ buyer\"</td>\n",
       "      <td>[1, 1]</td>\n",
       "      <td>I would recommend this for a travel magnifier ...</td>\n",
       "      <td>4.0</td>\n",
       "      <td>Small &amp; may need to encourage battery</td>\n",
       "      <td>1329523200</td>\n",
       "      <td>02 18, 2012</td>\n",
       "    </tr>\n",
       "    <tr>\n",
       "      <th>2</th>\n",
       "      <td>A38RMU1Y5TDP9</td>\n",
       "      <td>159985130X</td>\n",
       "      <td>Bob Tobias \"Robert Tobias\"</td>\n",
       "      <td>[75, 77]</td>\n",
       "      <td>What I liked was the quality of the lens and t...</td>\n",
       "      <td>4.0</td>\n",
       "      <td>Very good but not great</td>\n",
       "      <td>1275955200</td>\n",
       "      <td>06 8, 2010</td>\n",
       "    </tr>\n",
       "  </tbody>\n",
       "</table>\n",
       "</div>"
      ],
      "text/plain": [
       "      reviewerID        asin                reviewerName   helpful  \\\n",
       "0  ALC5GH8CAMAI7  159985130X                        AnnN    [1, 1]   \n",
       "1  AHKSURW85PJUE  159985130X         AZ buyer \"AZ buyer\"    [1, 1]   \n",
       "2  A38RMU1Y5TDP9  159985130X  Bob Tobias \"Robert Tobias\"  [75, 77]   \n",
       "\n",
       "                                          reviewText  overall  \\\n",
       "0  This is a great little gadget to have around. ...      5.0   \n",
       "1  I would recommend this for a travel magnifier ...      4.0   \n",
       "2  What I liked was the quality of the lens and t...      4.0   \n",
       "\n",
       "                                 summary  unixReviewTime   reviewTime  \n",
       "0                    Handy little gadget      1294185600   01 5, 2011  \n",
       "1  Small & may need to encourage battery      1329523200  02 18, 2012  \n",
       "2                Very good but not great      1275955200   06 8, 2010  "
      ]
     },
     "execution_count": 7,
     "metadata": {},
     "output_type": "execute_result"
    }
   ],
   "source": [
    "health_personal[:3]"
   ]
  },
  {
   "cell_type": "markdown",
   "metadata": {},
   "source": [
    "- **Reformat** datetime  from raw form."
   ]
  },
  {
   "cell_type": "code",
   "execution_count": 8,
   "metadata": {
    "collapsed": true
   },
   "outputs": [],
   "source": [
    "health_personal[\"reviewTime\"] = pd.to_datetime(health_personal[\"reviewTime\"])"
   ]
  },
  {
   "cell_type": "markdown",
   "metadata": {},
   "source": [
    "- **Rearrange** the left-to-right by relevance"
   ]
  },
  {
   "cell_type": "code",
   "execution_count": 9,
   "metadata": {
    "collapsed": true
   },
   "outputs": [],
   "source": [
    "health_personal = health_personal[['asin', 'summary', 'reviewText', 'overall', 'reviewerID', 'reviewerName', 'helpful', 'reviewTime',\n",
    "      'unixReviewTime']]"
   ]
  },
  {
   "cell_type": "code",
   "execution_count": 10,
   "metadata": {},
   "outputs": [
    {
     "data": {
      "text/html": [
       "<div>\n",
       "<style>\n",
       "    .dataframe thead tr:only-child th {\n",
       "        text-align: right;\n",
       "    }\n",
       "\n",
       "    .dataframe thead th {\n",
       "        text-align: left;\n",
       "    }\n",
       "\n",
       "    .dataframe tbody tr th {\n",
       "        vertical-align: top;\n",
       "    }\n",
       "</style>\n",
       "<table border=\"1\" class=\"dataframe\">\n",
       "  <thead>\n",
       "    <tr style=\"text-align: right;\">\n",
       "      <th></th>\n",
       "      <th>asin</th>\n",
       "      <th>summary</th>\n",
       "      <th>reviewText</th>\n",
       "      <th>overall</th>\n",
       "      <th>reviewerID</th>\n",
       "      <th>reviewerName</th>\n",
       "      <th>helpful</th>\n",
       "      <th>reviewTime</th>\n",
       "      <th>unixReviewTime</th>\n",
       "    </tr>\n",
       "  </thead>\n",
       "  <tbody>\n",
       "    <tr>\n",
       "      <th>0</th>\n",
       "      <td>159985130X</td>\n",
       "      <td>Handy little gadget</td>\n",
       "      <td>This is a great little gadget to have around. ...</td>\n",
       "      <td>5.0</td>\n",
       "      <td>ALC5GH8CAMAI7</td>\n",
       "      <td>AnnN</td>\n",
       "      <td>[1, 1]</td>\n",
       "      <td>2011-01-05</td>\n",
       "      <td>1294185600</td>\n",
       "    </tr>\n",
       "    <tr>\n",
       "      <th>1</th>\n",
       "      <td>159985130X</td>\n",
       "      <td>Small &amp; may need to encourage battery</td>\n",
       "      <td>I would recommend this for a travel magnifier ...</td>\n",
       "      <td>4.0</td>\n",
       "      <td>AHKSURW85PJUE</td>\n",
       "      <td>AZ buyer \"AZ buyer\"</td>\n",
       "      <td>[1, 1]</td>\n",
       "      <td>2012-02-18</td>\n",
       "      <td>1329523200</td>\n",
       "    </tr>\n",
       "    <tr>\n",
       "      <th>2</th>\n",
       "      <td>159985130X</td>\n",
       "      <td>Very good but not great</td>\n",
       "      <td>What I liked was the quality of the lens and t...</td>\n",
       "      <td>4.0</td>\n",
       "      <td>A38RMU1Y5TDP9</td>\n",
       "      <td>Bob Tobias \"Robert Tobias\"</td>\n",
       "      <td>[75, 77]</td>\n",
       "      <td>2010-06-08</td>\n",
       "      <td>1275955200</td>\n",
       "    </tr>\n",
       "  </tbody>\n",
       "</table>\n",
       "</div>"
      ],
      "text/plain": [
       "         asin                                summary  \\\n",
       "0  159985130X                    Handy little gadget   \n",
       "1  159985130X  Small & may need to encourage battery   \n",
       "2  159985130X                Very good but not great   \n",
       "\n",
       "                                          reviewText  overall     reviewerID  \\\n",
       "0  This is a great little gadget to have around. ...      5.0  ALC5GH8CAMAI7   \n",
       "1  I would recommend this for a travel magnifier ...      4.0  AHKSURW85PJUE   \n",
       "2  What I liked was the quality of the lens and t...      4.0  A38RMU1Y5TDP9   \n",
       "\n",
       "                 reviewerName   helpful reviewTime  unixReviewTime  \n",
       "0                        AnnN    [1, 1] 2011-01-05      1294185600  \n",
       "1         AZ buyer \"AZ buyer\"    [1, 1] 2012-02-18      1329523200  \n",
       "2  Bob Tobias \"Robert Tobias\"  [75, 77] 2010-06-08      1275955200  "
      ]
     },
     "execution_count": 10,
     "metadata": {},
     "output_type": "execute_result"
    }
   ],
   "source": [
    "health_personal.head(3)"
   ]
  },
  {
   "cell_type": "markdown",
   "metadata": {},
   "source": [
    "# Number of Reviews by Unique Products"
   ]
  },
  {
   "cell_type": "code",
   "execution_count": 11,
   "metadata": {},
   "outputs": [
    {
     "name": "stdout",
     "output_type": "stream",
     "text": [
      "Number of Unique Products in the Health and Personal Products Category = 18534\n"
     ]
    }
   ],
   "source": [
    "products = health_personal['overall'].groupby(health_personal['asin']).count()\n",
    "print(\"Number of Unique Products in the Health and Personal Products Category = {}\".format(products.count()))"
   ]
  },
  {
   "cell_type": "markdown",
   "metadata": {},
   "source": [
    "## Top 20 Most Reviewed Products"
   ]
  },
  {
   "cell_type": "code",
   "execution_count": 13,
   "metadata": {},
   "outputs": [
    {
     "name": "stdout",
     "output_type": "stream",
     "text": [
      "Top 20 Reviewed Products:\n",
      "\n",
      "asin\n",
      "B0037KMI0U    1089\n",
      "B0010JLMO8     767\n",
      "B001KXZ808     699\n",
      "B0049LUI9O     528\n",
      "B000GIPJY8     475\n",
      "B001F51VRK     469\n",
      "B000NL0T1G     434\n",
      "B001F51VS4     431\n",
      "B004YHKUXC     427\n",
      "B007UZNS5W     422\n",
      "B0032TNPOE     422\n",
      "B001ADL1SG     411\n",
      "B003X5FYJQ     410\n",
      "B0026HDURA     376\n",
      "B0013OQGO6     366\n",
      "B002PY7P4I     361\n",
      "B006DR2BEW     345\n",
      "B0000U1OCI     334\n",
      "B003WR3QSG     332\n",
      "B005ACNPKA     323\n",
      "Name: overall, dtype: int64\n",
      "\n",
      "Most Reviewed Product, B0037KMI0U - has 1089 reviews.\n"
     ]
    }
   ],
   "source": [
    "sorted_products = products.sort_values(ascending=False)\n",
    "\n",
    "print(\"Top 20 Reviewed Products:\\n\")\n",
    "print(sorted_products[:20], end='\\n\\n')\n",
    "print('Most Reviewed Product, B0037KMI0U - has {} reviews.'.format(products.max()))"
   ]
  },
  {
   "cell_type": "markdown",
   "metadata": {},
   "source": [
    "Product description is:     ** \"Tide Original Scent Liquid Laundry Detergent , 50 Fl Oz, 2 Count\" **"
   ]
  },
  {
   "cell_type": "code",
   "execution_count": 14,
   "metadata": {},
   "outputs": [
    {
     "data": {
      "text/plain": [
       "asin\n",
       "B000B688MA    9\n",
       "Name: overall, dtype: int64"
      ]
     },
     "execution_count": 14,
     "metadata": {},
     "output_type": "execute_result"
    }
   ],
   "source": [
    "sorted_products[9267:9268]"
   ]
  },
  {
   "cell_type": "markdown",
   "metadata": {},
   "source": [
    "Review of the Middle of overall products is **\"LifeSource UA-100 Home Aneroid Blood Pressure Monitor\"**"
   ]
  },
  {
   "cell_type": "code",
   "execution_count": 15,
   "metadata": {},
   "outputs": [
    {
     "data": {
      "text/plain": [
       "5"
      ]
     },
     "execution_count": 15,
     "metadata": {},
     "output_type": "execute_result"
    }
   ],
   "source": [
    "sorted_products[18533]"
   ]
  },
  {
   "cell_type": "code",
   "execution_count": 16,
   "metadata": {},
   "outputs": [
    {
     "name": "stdout",
     "output_type": "stream",
     "text": [
      "Bottom 20 Reviewed Products:\n",
      "\n",
      "asin\n",
      "B000HHS6YS    5\n",
      "B000HHPHK4    5\n",
      "B000HGMHUI    5\n",
      "B005OBPI34    5\n",
      "B001F1DWZS    5\n",
      "B009XUFAUS    5\n",
      "B001F51VT8    5\n",
      "B000HC0OVG    5\n",
      "B001F2C80C    5\n",
      "B009YLEL1K    5\n",
      "B001F3NGRK    5\n",
      "B005NZ4IBY    5\n",
      "B000H8DW5K    5\n",
      "B003B4YO4A    5\n",
      "B000H84COA    5\n",
      "B005NWHOPE    5\n",
      "B009YZD3U6    5\n",
      "B009Z6KLEK    5\n",
      "B001F51R9M    5\n",
      "B000U5ZPJ6    5\n",
      "Name: overall, dtype: int64\n",
      "\n",
      "Several products has least reviews of 5\n"
     ]
    }
   ],
   "source": [
    "print(\"Bottom 20 Reviewed Products:\\n\")\n",
    "print(sorted_products[18514:], end='\\n\\n')\n",
    "print('Several products has least reviews of 5')"
   ]
  },
  {
   "cell_type": "markdown",
   "metadata": {},
   "source": [
    "**Most Common Amount of Reviews**"
   ]
  },
  {
   "cell_type": "code",
   "execution_count": 18,
   "metadata": {},
   "outputs": [
    {
     "data": {
      "text/plain": [
       "0    5\n",
       "dtype: int64"
      ]
     },
     "execution_count": 18,
     "metadata": {},
     "output_type": "execute_result"
    }
   ],
   "source": [
    "products.mode()"
   ]
  },
  {
   "cell_type": "markdown",
   "metadata": {},
   "source": [
    "# Preprocessing"
   ]
  },
  {
   "cell_type": "markdown",
   "metadata": {},
   "source": [
    "### Remove punctuations, stopwords, and lemmatize"
   ]
  },
  {
   "cell_type": "code",
   "execution_count": 26,
   "metadata": {},
   "outputs": [
    {
     "data": {
      "text/plain": [
       "0     This is a great little gadget to have around. ...\n",
       "1     I would recommend this for a travel magnifier ...\n",
       "2     What I liked was the quality of the lens and t...\n",
       "3     Love the Great point light pocket magnifier!  ...\n",
       "4     This is very nice. You pull out on the magnifi...\n",
       "5     The light comes on when the item is pulled.  T...\n",
       "6     These are lightweight and efficient and have s...\n",
       "7     We bought one for road trips and trying to int...\n",
       "8     The screen of the magnifier is small. If you'r...\n",
       "9     This pocket magnifier is nice and compact.  Th...\n",
       "10    Seems to be a legit 3X.  I bought my first and...\n",
       "Name: reviewText, dtype: object"
      ]
     },
     "execution_count": 26,
     "metadata": {},
     "output_type": "execute_result"
    }
   ],
   "source": [
    "health_personal['reviewText'][:11]"
   ]
  },
  {
   "cell_type": "code",
   "execution_count": 27,
   "metadata": {},
   "outputs": [
    {
     "data": {
      "text/plain": [
       "346355"
      ]
     },
     "execution_count": 27,
     "metadata": {},
     "output_type": "execute_result"
    }
   ],
   "source": [
    "reviews = health_personal['reviewText']\n",
    "reviews.count()"
   ]
  },
  {
   "cell_type": "code",
   "execution_count": 28,
   "metadata": {
    "collapsed": true
   },
   "outputs": [],
   "source": [
    "stops = stopwords.words('english')"
   ]
  },
  {
   "cell_type": "code",
   "execution_count": 29,
   "metadata": {
    "collapsed": true
   },
   "outputs": [],
   "source": [
    "def tokenize(text):\n",
    "    tokenized = word_tokenize(text)\n",
    "    no_punc = []\n",
    "    for review in tokenized:\n",
    "        line = \"\".join(char for char in review if char not in string.punctuation)\n",
    "        no_punc.append(line)\n",
    "    tokens = lemmatize(no_punc)\n",
    "    return tokens\n",
    "\n",
    "\n",
    "def lemmatize(tokens):\n",
    "    lmtzr = WordNetLemmatizer()\n",
    "    lemma = [lmtzr.lemmatize(t) for t in tokens]\n",
    "    return lemma"
   ]
  },
  {
   "cell_type": "code",
   "execution_count": 30,
   "metadata": {},
   "outputs": [
    {
     "data": {
      "text/plain": [
       "0     [This, is, a, great, little, gadget, to, have,...\n",
       "1     [I, would, recommend, this, for, a, travel, ma...\n",
       "2     [What, I, liked, wa, the, quality, of, the, le...\n",
       "3     [Love, the, Great, point, light, pocket, magni...\n",
       "4     [This, is, very, nice, , You, pull, out, on, t...\n",
       "5     [The, light, come, on, when, the, item, is, pu...\n",
       "6     [These, are, lightweight, and, efficient, and,...\n",
       "7     [We, bought, one, for, road, trip, and, trying...\n",
       "8     [The, screen, of, the, magnifier, is, small, ,...\n",
       "9     [This, pocket, magnifier, is, nice, and, compa...\n",
       "10    [Seems, to, be, a, legit, 3X, , I, bought, my,...\n",
       "Name: reviewText, dtype: object"
      ]
     },
     "execution_count": 30,
     "metadata": {},
     "output_type": "execute_result"
    }
   ],
   "source": [
    "reviews = reviews.apply(lambda x: tokenize(x))\n",
    "reviews[:11]"
   ]
  },
  {
   "cell_type": "markdown",
   "metadata": {},
   "source": [
    "# Modeling"
   ]
  },
  {
   "cell_type": "markdown",
   "metadata": {},
   "source": [
    "Model data\n",
    "\n",
    "[ 1 ] Classification / Sentiment Analysis ( Logistic Regression, MultinomialNB )\n",
    "\n",
    "[ 2 ] Clustering / Topic Modeling ( NMF and Lda )"
   ]
  },
  {
   "cell_type": "markdown",
   "metadata": {},
   "source": [
    "\n",
    "# Classification / Sentiment Analysis (LogReg, Mulitnomial)\n"
   ]
  },
  {
   "cell_type": "code",
   "execution_count": 33,
   "metadata": {
    "collapsed": true
   },
   "outputs": [],
   "source": [
    "cloud = wordcloud.WordCloud(background_color='black', max_font_size=60, \n",
    "                                relative_scaling=1).generate(' '.join(health_personal.reviewText))"
   ]
  },
  {
   "cell_type": "code",
   "execution_count": 36,
   "metadata": {},
   "outputs": [
    {
     "data": {
      "image/png": "[encoded data removed]",
      "text/plain": [
       "<matplotlib.figure.Figure at 0x217306fd0>"
      ]
     },
     "metadata": {},
     "output_type": "display_data"
    }
   ],
   "source": [
    "fig = plt.figure(figsize=(15, 10))\n",
    "plt.axis('off')\n",
    "plt.imshow(cloud);"
   ]
  },
  {
   "cell_type": "code",
   "execution_count": 37,
   "metadata": {},
   "outputs": [
    {
     "data": {
      "text/html": [
       "<div>\n",
       "<style>\n",
       "    .dataframe thead tr:only-child th {\n",
       "        text-align: right;\n",
       "    }\n",
       "\n",
       "    .dataframe thead th {\n",
       "        text-align: left;\n",
       "    }\n",
       "\n",
       "    .dataframe tbody tr th {\n",
       "        vertical-align: top;\n",
       "    }\n",
       "</style>\n",
       "<table border=\"1\" class=\"dataframe\">\n",
       "  <thead>\n",
       "    <tr style=\"text-align: right;\">\n",
       "      <th></th>\n",
       "      <th>asin</th>\n",
       "      <th>summary</th>\n",
       "      <th>reviewText</th>\n",
       "      <th>overall</th>\n",
       "      <th>reviewerID</th>\n",
       "      <th>reviewerName</th>\n",
       "      <th>helpful</th>\n",
       "      <th>reviewTime</th>\n",
       "      <th>unixReviewTime</th>\n",
       "    </tr>\n",
       "  </thead>\n",
       "  <tbody>\n",
       "    <tr>\n",
       "      <th>0</th>\n",
       "      <td>159985130X</td>\n",
       "      <td>Handy little gadget</td>\n",
       "      <td>This is a great little gadget to have around. ...</td>\n",
       "      <td>5.0</td>\n",
       "      <td>ALC5GH8CAMAI7</td>\n",
       "      <td>AnnN</td>\n",
       "      <td>[1, 1]</td>\n",
       "      <td>2011-01-05</td>\n",
       "      <td>1294185600</td>\n",
       "    </tr>\n",
       "    <tr>\n",
       "      <th>1</th>\n",
       "      <td>159985130X</td>\n",
       "      <td>Small &amp; may need to encourage battery</td>\n",
       "      <td>I would recommend this for a travel magnifier ...</td>\n",
       "      <td>4.0</td>\n",
       "      <td>AHKSURW85PJUE</td>\n",
       "      <td>AZ buyer \"AZ buyer\"</td>\n",
       "      <td>[1, 1]</td>\n",
       "      <td>2012-02-18</td>\n",
       "      <td>1329523200</td>\n",
       "    </tr>\n",
       "    <tr>\n",
       "      <th>2</th>\n",
       "      <td>159985130X</td>\n",
       "      <td>Very good but not great</td>\n",
       "      <td>What I liked was the quality of the lens and t...</td>\n",
       "      <td>4.0</td>\n",
       "      <td>A38RMU1Y5TDP9</td>\n",
       "      <td>Bob Tobias \"Robert Tobias\"</td>\n",
       "      <td>[75, 77]</td>\n",
       "      <td>2010-06-08</td>\n",
       "      <td>1275955200</td>\n",
       "    </tr>\n",
       "  </tbody>\n",
       "</table>\n",
       "</div>"
      ],
      "text/plain": [
       "         asin                                summary  \\\n",
       "0  159985130X                    Handy little gadget   \n",
       "1  159985130X  Small & may need to encourage battery   \n",
       "2  159985130X                Very good but not great   \n",
       "\n",
       "                                          reviewText  overall     reviewerID  \\\n",
       "0  This is a great little gadget to have around. ...      5.0  ALC5GH8CAMAI7   \n",
       "1  I would recommend this for a travel magnifier ...      4.0  AHKSURW85PJUE   \n",
       "2  What I liked was the quality of the lens and t...      4.0  A38RMU1Y5TDP9   \n",
       "\n",
       "                 reviewerName   helpful reviewTime  unixReviewTime  \n",
       "0                        AnnN    [1, 1] 2011-01-05      1294185600  \n",
       "1         AZ buyer \"AZ buyer\"    [1, 1] 2012-02-18      1329523200  \n",
       "2  Bob Tobias \"Robert Tobias\"  [75, 77] 2010-06-08      1275955200  "
      ]
     },
     "execution_count": 37,
     "metadata": {},
     "output_type": "execute_result"
    }
   ],
   "source": [
    "health_personal[:3]"
   ]
  },
  {
   "cell_type": "markdown",
   "metadata": {},
   "source": [
    "### Insert pos_neg column for Sentiment modeling\n",
    "\n",
    "We are going to split the reviews as Positive or Negative depending on the review ratings provided.\n",
    "\n",
    "Negative reviews:      1-3 Stars  = 0\n",
    "\n",
    "Positive reviews:      4-5 Stars  = 1"
   ]
  },
  {
   "cell_type": "code",
   "execution_count": 38,
   "metadata": {},
   "outputs": [
    {
     "data": {
      "text/html": [
       "<div>\n",
       "<style>\n",
       "    .dataframe thead tr:only-child th {\n",
       "        text-align: right;\n",
       "    }\n",
       "\n",
       "    .dataframe thead th {\n",
       "        text-align: left;\n",
       "    }\n",
       "\n",
       "    .dataframe tbody tr th {\n",
       "        vertical-align: top;\n",
       "    }\n",
       "</style>\n",
       "<table border=\"1\" class=\"dataframe\">\n",
       "  <thead>\n",
       "    <tr style=\"text-align: right;\">\n",
       "      <th></th>\n",
       "      <th>asin</th>\n",
       "      <th>summary</th>\n",
       "      <th>reviewText</th>\n",
       "      <th>overall</th>\n",
       "      <th>reviewerID</th>\n",
       "      <th>reviewerName</th>\n",
       "      <th>helpful</th>\n",
       "      <th>reviewTime</th>\n",
       "      <th>unixReviewTime</th>\n",
       "      <th>pos_neg</th>\n",
       "    </tr>\n",
       "  </thead>\n",
       "  <tbody>\n",
       "    <tr>\n",
       "      <th>0</th>\n",
       "      <td>159985130X</td>\n",
       "      <td>Handy little gadget</td>\n",
       "      <td>This is a great little gadget to have around. ...</td>\n",
       "      <td>5.0</td>\n",
       "      <td>ALC5GH8CAMAI7</td>\n",
       "      <td>AnnN</td>\n",
       "      <td>[1, 1]</td>\n",
       "      <td>2011-01-05</td>\n",
       "      <td>1294185600</td>\n",
       "      <td>1</td>\n",
       "    </tr>\n",
       "    <tr>\n",
       "      <th>1</th>\n",
       "      <td>159985130X</td>\n",
       "      <td>Small &amp; may need to encourage battery</td>\n",
       "      <td>I would recommend this for a travel magnifier ...</td>\n",
       "      <td>4.0</td>\n",
       "      <td>AHKSURW85PJUE</td>\n",
       "      <td>AZ buyer \"AZ buyer\"</td>\n",
       "      <td>[1, 1]</td>\n",
       "      <td>2012-02-18</td>\n",
       "      <td>1329523200</td>\n",
       "      <td>1</td>\n",
       "    </tr>\n",
       "    <tr>\n",
       "      <th>2</th>\n",
       "      <td>159985130X</td>\n",
       "      <td>Very good but not great</td>\n",
       "      <td>What I liked was the quality of the lens and t...</td>\n",
       "      <td>4.0</td>\n",
       "      <td>A38RMU1Y5TDP9</td>\n",
       "      <td>Bob Tobias \"Robert Tobias\"</td>\n",
       "      <td>[75, 77]</td>\n",
       "      <td>2010-06-08</td>\n",
       "      <td>1275955200</td>\n",
       "      <td>1</td>\n",
       "    </tr>\n",
       "  </tbody>\n",
       "</table>\n",
       "</div>"
      ],
      "text/plain": [
       "         asin                                summary  \\\n",
       "0  159985130X                    Handy little gadget   \n",
       "1  159985130X  Small & may need to encourage battery   \n",
       "2  159985130X                Very good but not great   \n",
       "\n",
       "                                          reviewText  overall     reviewerID  \\\n",
       "0  This is a great little gadget to have around. ...      5.0  ALC5GH8CAMAI7   \n",
       "1  I would recommend this for a travel magnifier ...      4.0  AHKSURW85PJUE   \n",
       "2  What I liked was the quality of the lens and t...      4.0  A38RMU1Y5TDP9   \n",
       "\n",
       "                 reviewerName   helpful reviewTime  unixReviewTime  pos_neg  \n",
       "0                        AnnN    [1, 1] 2011-01-05      1294185600        1  \n",
       "1         AZ buyer \"AZ buyer\"    [1, 1] 2012-02-18      1329523200        1  \n",
       "2  Bob Tobias \"Robert Tobias\"  [75, 77] 2010-06-08      1275955200        1  "
      ]
     },
     "execution_count": 38,
     "metadata": {},
     "output_type": "execute_result"
    }
   ],
   "source": [
    "health_personal['pos_neg'] = [1 if x > 3 else 0 for x in health_personal.overall]\n",
    "health_personal.head(3)"
   ]
  },
  {
   "cell_type": "code",
   "execution_count": 39,
   "metadata": {
    "collapsed": true
   },
   "outputs": [],
   "source": [
    "review_text = health_personal[\"reviewText\"]"
   ]
  },
  {
   "cell_type": "markdown",
   "metadata": {},
   "source": [
    "### Train/Test Split\n"
   ]
  },
  {
   "cell_type": "code",
   "execution_count": 41,
   "metadata": {
    "collapsed": true
   },
   "outputs": [],
   "source": [
    "x_train, x_test, y_train, y_test = train_test_split(health_personal.reviewText, health_personal.pos_neg, random_state=0)"
   ]
  },
  {
   "cell_type": "code",
   "execution_count": 42,
   "metadata": {},
   "outputs": [
    {
     "name": "stdout",
     "output_type": "stream",
     "text": [
      "x_train shape: (259766,)\n",
      "y_train shape: (259766,)\n",
      "\n",
      "x_test shape: (86589,)\n",
      "y_test shape: (86589,)\n",
      "\n"
     ]
    }
   ],
   "source": [
    "print(\"x_train shape: {}\".format(x_train.shape), end='\\n')\n",
    "print(\"y_train shape: {}\".format(y_train.shape), end='\\n\\n')\n",
    "print(\"x_test shape: {}\".format(x_test.shape), end='\\n')\n",
    "print(\"y_test shape: {}\".format(y_test.shape), end='\\n\\n')"
   ]
  },
  {
   "cell_type": "markdown",
   "metadata": {},
   "source": [
    "We are now going to apply the classification models and compare the accuracy of the three models. \n",
    "\n",
    "## Logistic Regression\n",
    "\n",
    "### CountVectorizer\n"
   ]
  },
  {
   "cell_type": "code",
   "execution_count": 43,
   "metadata": {},
   "outputs": [
    {
     "name": "stdout",
     "output_type": "stream",
     "text": [
      "X_train:\n",
      "<259766x31990 sparse matrix of type '<class 'numpy.int64'>'\n",
      "\twith 15614418 stored elements in Compressed Sparse Row format>\n"
     ]
    }
   ],
   "source": [
    "# Vectorize X_train\n",
    "vectorizer = CountVectorizer(min_df=5).fit(x_train)\n",
    "X_train = vectorizer.transform(x_train)\n",
    "print(\"X_train:\\n{}\".format(repr(X_train)))"
   ]
  },
  {
   "cell_type": "code",
   "execution_count": 44,
   "metadata": {},
   "outputs": [
    {
     "name": "stdout",
     "output_type": "stream",
     "text": [
      "Number of features: 31990\n"
     ]
    }
   ],
   "source": [
    "\n",
    "feature_names = vectorizer.get_feature_names()\n",
    "print(\"Number of features: {}\".format(len(feature_names)))"
   ]
  },
  {
   "cell_type": "markdown",
   "metadata": {},
   "source": [
    "### Logistic Regression on Training Data"
   ]
  },
  {
   "cell_type": "code",
   "execution_count": 46,
   "metadata": {},
   "outputs": [
    {
     "name": "stdout",
     "output_type": "stream",
     "text": [
      "Mean cross-validation accuracy: 0.857\n"
     ]
    }
   ],
   "source": [
    "scores = cross_val_score(LogisticRegression(), X_train, y_train, cv=5)\n",
    "print(\"Mean cross-validation accuracy: {:.3f}\".format(np.mean(scores)))"
   ]
  },
  {
   "cell_type": "code",
   "execution_count": 47,
   "metadata": {
    "collapsed": true
   },
   "outputs": [],
   "source": [
    "logreg = LogisticRegression(C=0.1).fit(X_train, y_train)\n",
    "X_test = vectorizer.transform(x_test)\n",
    "log_y_pred = logreg.predict(X_test)"
   ]
  },
  {
   "cell_type": "code",
   "execution_count": 48,
   "metadata": {},
   "outputs": [
    {
     "name": "stdout",
     "output_type": "stream",
     "text": [
      "Accuracy:   0.848\n",
      "Training set score: 0.849\n",
      "Test set score: 0.848\n"
     ]
    }
   ],
   "source": [
    "logreg_score = accuracy_score(y_test, log_y_pred)\n",
    "print(\"Accuracy:   {:.3f}\".format(logreg_score))\n",
    "\n",
    "print(\"Training set score: {:.3f}\".format(logreg.score(X_train, y_train)))\n",
    "print(\"Test set score: {:.3f}\".format(logreg.score(X_test, y_test)))\n"
   ]
  },
  {
   "cell_type": "code",
   "execution_count": 49,
   "metadata": {},
   "outputs": [
    {
     "name": "stdout",
     "output_type": "stream",
     "text": [
      "Confusion matrix:\n",
      "[[ 5368 11183]\n",
      " [ 1975 68063]]\n",
      "\n",
      "---------------\n",
      "[['TN' 'FP']\n",
      " ['FN' 'TP']]\n"
     ]
    }
   ],
   "source": [
    "log_cfm = confusion_matrix(y_test, log_y_pred)\n",
    "print(\"Confusion matrix:\")\n",
    "print(log_cfm, end='\\n\\n')\n",
    "print('-'*15)\n",
    "print(np.array([['TN', 'FP'],[ 'FN' , 'TP']]))"
   ]
  },
  {
   "cell_type": "code",
   "execution_count": 50,
   "metadata": {},
   "outputs": [
    {
     "data": {
      "image/png": "[encoded data removed]",
      "text/plain": [
       "<matplotlib.figure.Figure at 0x2195c5c88>"
      ]
     },
     "metadata": {},
     "output_type": "display_data"
    }
   ],
   "source": [
    "plt.imshow(log_cfm, interpolation='nearest')\n",
    "\n",
    "for i, j in itertools.product(range(log_cfm.shape[0]), range(log_cfm.shape[1])):\n",
    "    plt.text(j, i, log_cfm[i, j],\n",
    "             horizontalalignment=\"center\",\n",
    "             color=\"white\")\n",
    "\n",
    "plt.ylabel('True label (Recall)')\n",
    "plt.xlabel('Predicted label (Precision)')\n",
    "plt.title('Logistic Reg | Confusion Matrix')\n",
    "plt.colorbar();"
   ]
  },
  {
   "cell_type": "code",
   "execution_count": 51,
   "metadata": {},
   "outputs": [
    {
     "name": "stdout",
     "output_type": "stream",
     "text": [
      "Logistic Reg - F1 score: 0.912\n"
     ]
    }
   ],
   "source": [
    "log_f1 = f1_score(y_test, log_y_pred)\n",
    "print(\"Logistic Reg - F1 score: {:.3f}\".format(log_f1))"
   ]
  },
  {
   "cell_type": "markdown",
   "metadata": {},
   "source": [
    "## Multinomial Naive Bayes "
   ]
  },
  {
   "cell_type": "markdown",
   "metadata": {},
   "source": [
    "### CountVectorizer"
   ]
  },
  {
   "cell_type": "code",
   "execution_count": 52,
   "metadata": {},
   "outputs": [
    {
     "data": {
      "text/plain": [
       "MultinomialNB(alpha=0.01, class_prior=None, fit_prior=True)"
      ]
     },
     "execution_count": 52,
     "metadata": {},
     "output_type": "execute_result"
    }
   ],
   "source": [
    "mnb = MultinomialNB(alpha=.01)\n",
    "mnb.fit(X_train, y_train)"
   ]
  },
  {
   "cell_type": "code",
   "execution_count": 53,
   "metadata": {
    "collapsed": true
   },
   "outputs": [],
   "source": [
    "mnb_y_pred = mnb.predict(X_test)"
   ]
  },
  {
   "cell_type": "code",
   "execution_count": 54,
   "metadata": {},
   "outputs": [
    {
     "name": "stdout",
     "output_type": "stream",
     "text": [
      "Accuracy:   0.846\n",
      "Training set score: 0.862\n",
      "Test set score: 0.846\n"
     ]
    }
   ],
   "source": [
    "mnb_score = accuracy_score(y_test, mnb_y_pred)\n",
    "print(\"Accuracy:   {:.3f}\".format(mnb_score))\n",
    "\n",
    "print(\"Training set score: {:.3f}\".format(mnb.score(X_train, y_train)))\n",
    "print(\"Test set score: {:.3f}\".format(mnb.score(X_test, y_test)))"
   ]
  },
  {
   "cell_type": "code",
   "execution_count": 55,
   "metadata": {},
   "outputs": [
    {
     "name": "stdout",
     "output_type": "stream",
     "text": [
      "Confusion matrix:\n",
      "[[ 9670  6881]\n",
      " [ 6443 63595]]\n",
      "\n",
      "---------------\n",
      "[['TN' 'FP']\n",
      " ['FN' 'TP']]\n"
     ]
    }
   ],
   "source": [
    "mnb_cfm = confusion_matrix(y_test, mnb_y_pred)\n",
    "print(\"Confusion matrix:\")\n",
    "print(mnb_cfm, end='\\n\\n')\n",
    "print('-'*15)\n",
    "print(np.array([['TN', 'FP'],[ 'FN' , 'TP']]))"
   ]
  },
  {
   "cell_type": "code",
   "execution_count": 56,
   "metadata": {},
   "outputs": [
    {
     "data": {
      "image/png": "[encoded data removed]",
      "text/plain": [
       "<matplotlib.figure.Figure at 0x22b502390>"
      ]
     },
     "metadata": {},
     "output_type": "display_data"
    }
   ],
   "source": [
    "\n",
    "plt.imshow(mnb_cfm, interpolation='nearest')\n",
    "\n",
    "for i, j in itertools.product(range(mnb_cfm.shape[0]), range(mnb_cfm.shape[1])):\n",
    "    plt.text(j, i, mnb_cfm[i, j],\n",
    "             horizontalalignment=\"center\",\n",
    "             color=\"white\")\n",
    "\n",
    "plt.ylabel('True label (Recall)')\n",
    "plt.xlabel('Predicted label (Precision)')\n",
    "plt.title('Multinomial | Confusion Matrix')\n",
    "plt.colorbar();"
   ]
  },
  {
   "cell_type": "code",
   "execution_count": 57,
   "metadata": {},
   "outputs": [
    {
     "name": "stdout",
     "output_type": "stream",
     "text": [
      "Multinomial NB - F1 score: 0.905\n"
     ]
    }
   ],
   "source": [
    "mnb_f1 = f1_score(y_test, mnb_y_pred)\n",
    "print(\"Multinomial NB - F1 score: {:.3f}\".format(mnb_f1))"
   ]
  },
  {
   "cell_type": "markdown",
   "metadata": {},
   "source": [
    "## TF-IDF Vectorizer"
   ]
  },
  {
   "cell_type": "code",
   "execution_count": 58,
   "metadata": {},
   "outputs": [
    {
     "name": "stdout",
     "output_type": "stream",
     "text": [
      "X_train:\n",
      "<259766x31990 sparse matrix of type '<class 'numpy.float64'>'\n",
      "\twith 15614418 stored elements in Compressed Sparse Row format>\n"
     ]
    }
   ],
   "source": [
    "# Vectorize X_train\n",
    "mnb_tfidfvectorizer = TfidfVectorizer(min_df=5).fit(x_train)\n",
    "mnb_X_train = mnb_tfidfvectorizer.transform(x_train)\n",
    "print(\"X_train:\\n{}\".format(repr(mnb_X_train)))"
   ]
  },
  {
   "cell_type": "code",
   "execution_count": 59,
   "metadata": {},
   "outputs": [
    {
     "name": "stdout",
     "output_type": "stream",
     "text": [
      "Accuracy:   0.816\n"
     ]
    }
   ],
   "source": [
    "mnb_X_test = mnb_tfidfvectorizer.transform(x_test)\n",
    "mnb_y_pred = mnb.predict(mnb_X_test)\n",
    "\n",
    "mnb_score2 = accuracy_score(y_test, mnb_y_pred)\n",
    "print(\"Accuracy:   {:.3f}\".format(mnb_score2))"
   ]
  },
  {
   "cell_type": "code",
   "execution_count": 60,
   "metadata": {},
   "outputs": [
    {
     "name": "stdout",
     "output_type": "stream",
     "text": [
      "Training set score: 0.819\n",
      "Test set score: 0.816\n"
     ]
    }
   ],
   "source": [
    "print(\"Training set score: {:.3f}\".format(mnb.score(mnb_X_train, y_train)))\n",
    "print(\"Test set score: {:.3f}\".format(mnb.score(mnb_X_test, y_test)))"
   ]
  },
  {
   "cell_type": "code",
   "execution_count": 61,
   "metadata": {},
   "outputs": [
    {
     "name": "stdout",
     "output_type": "stream",
     "text": [
      "Confusion matrix:\n",
      "[[  691 15860]\n",
      " [  105 69933]]\n",
      "\n",
      "---------------\n",
      "[['TN' 'FP']\n",
      " ['FN' 'TP']]\n"
     ]
    }
   ],
   "source": [
    "mnb_cfm2 = confusion_matrix(y_test, mnb_y_pred)\n",
    "print(\"Confusion matrix:\")\n",
    "print(mnb_cfm2, end='\\n\\n')\n",
    "print('-'*15)\n",
    "print(np.array([['TN', 'FP'],[ 'FN' , 'TP']]))"
   ]
  },
  {
   "cell_type": "code",
   "execution_count": 62,
   "metadata": {},
   "outputs": [
    {
     "data": {
      "image/png": "[encoded data removed]",
      "text/plain": [
       "<matplotlib.figure.Figure at 0x217ea5748>"
      ]
     },
     "metadata": {},
     "output_type": "display_data"
    }
   ],
   "source": [
    "\n",
    "plt.imshow(mnb_cfm2, interpolation='nearest')\n",
    "\n",
    "for i, j in itertools.product(range(mnb_cfm2.shape[0]), range(mnb_cfm2.shape[1])):\n",
    "    plt.text(j, i, mnb_cfm2[i, j],\n",
    "             horizontalalignment=\"center\",\n",
    "             color=\"white\")\n",
    "\n",
    "plt.ylabel('True label (Recall)')\n",
    "plt.xlabel('Predicted label (Precision)')\n",
    "plt.title('Multinomial | Confusion Matrix')\n",
    "plt.colorbar();"
   ]
  },
  {
   "cell_type": "code",
   "execution_count": 63,
   "metadata": {},
   "outputs": [
    {
     "name": "stdout",
     "output_type": "stream",
     "text": [
      "Multinomial NB - F1 score: 0.898\n"
     ]
    }
   ],
   "source": [
    "mnb2_f1 = f1_score(y_test, mnb_y_pred)\n",
    "print(\"Multinomial NB - F1 score: {:.3f}\".format(mnb2_f1))"
   ]
  },
  {
   "cell_type": "markdown",
   "metadata": {},
   "source": [
    "## Summary:\n",
    "\n",
    "Comparing the Accuracy Scores of Logistic and NB. Logistic Regression using CountVectorizer provides better classification accuracy.\n"
   ]
  },
  {
   "cell_type": "code",
   "execution_count": 66,
   "metadata": {
    "collapsed": true
   },
   "outputs": [],
   "source": [
    "df = pd.DataFrame(data={\n",
    "'Model':['LogisticRegression','MultinomialNB-CV','MultinomialNB-TFIDF'],\n",
    "'TN':[5368,9670,691],\n",
    "'FP':[11183,6881,15860],\n",
    "'FN':[1975,6443,105],\n",
    "'TP':[68063,63595,69933],\n",
    "'F1 Score ':[0.912,0.905,0.898],\n",
    "'Accuracy ':[0.848,0.846,0.816]\n",
    "} )\n",
    "\n",
    "#df"
   ]
  },
  {
   "cell_type": "markdown",
   "metadata": {},
   "source": [
    "#### Scores Across Models"
   ]
  },
  {
   "cell_type": "code",
   "execution_count": 67,
   "metadata": {},
   "outputs": [
    {
     "data": {
      "text/html": [
       "<div>\n",
       "<style>\n",
       "    .dataframe thead tr:only-child th {\n",
       "        text-align: right;\n",
       "    }\n",
       "\n",
       "    .dataframe thead th {\n",
       "        text-align: left;\n",
       "    }\n",
       "\n",
       "    .dataframe tbody tr th {\n",
       "        vertical-align: top;\n",
       "    }\n",
       "</style>\n",
       "<table border=\"1\" class=\"dataframe\">\n",
       "  <thead>\n",
       "    <tr style=\"text-align: right;\">\n",
       "      <th></th>\n",
       "      <th>Accuracy</th>\n",
       "      <th>F1 Score</th>\n",
       "      <th>FN</th>\n",
       "      <th>FP</th>\n",
       "      <th>Model</th>\n",
       "      <th>TN</th>\n",
       "      <th>TP</th>\n",
       "    </tr>\n",
       "  </thead>\n",
       "  <tbody>\n",
       "    <tr>\n",
       "      <th>0</th>\n",
       "      <td>0.848</td>\n",
       "      <td>0.912</td>\n",
       "      <td>1975</td>\n",
       "      <td>11183</td>\n",
       "      <td>LogisticRegression</td>\n",
       "      <td>5368</td>\n",
       "      <td>68063</td>\n",
       "    </tr>\n",
       "    <tr>\n",
       "      <th>1</th>\n",
       "      <td>0.846</td>\n",
       "      <td>0.905</td>\n",
       "      <td>6443</td>\n",
       "      <td>6881</td>\n",
       "      <td>MultinomialNB-CV</td>\n",
       "      <td>9670</td>\n",
       "      <td>63595</td>\n",
       "    </tr>\n",
       "    <tr>\n",
       "      <th>2</th>\n",
       "      <td>0.816</td>\n",
       "      <td>0.898</td>\n",
       "      <td>105</td>\n",
       "      <td>15860</td>\n",
       "      <td>MultinomialNB-TFIDF</td>\n",
       "      <td>691</td>\n",
       "      <td>69933</td>\n",
       "    </tr>\n",
       "  </tbody>\n",
       "</table>\n",
       "</div>"
      ],
      "text/plain": [
       "   Accuracy   F1 Score     FN     FP                Model    TN     TP\n",
       "0      0.848      0.912  1975  11183   LogisticRegression  5368  68063\n",
       "1      0.846      0.905  6443   6881     MultinomialNB-CV  9670  63595\n",
       "2      0.816      0.898   105  15860  MultinomialNB-TFIDF   691  69933"
      ]
     },
     "execution_count": 67,
     "metadata": {},
     "output_type": "execute_result"
    }
   ],
   "source": [
    "df"
   ]
  },
  {
   "cell_type": "markdown",
   "metadata": {},
   "source": [
    "# Topic Modeling (LDA)\n",
    "\n",
    "\n",
    "## CountVectorizer and NLTK StopWords:\n"
   ]
  },
  {
   "cell_type": "code",
   "execution_count": 70,
   "metadata": {},
   "outputs": [
    {
     "name": "stdout",
     "output_type": "stream",
     "text": [
      "Number of total features: 140365\n"
     ]
    }
   ],
   "source": [
    "# Use tf-idf features\n",
    "tfidf_vectorizer = TfidfVectorizer(stop_words=stops)\n",
    "tfidf = tfidf_vectorizer.fit_transform(review_text)\n",
    "\n",
    "# Use tf features\n",
    "tf_vectorizer = CountVectorizer(stop_words=stops)\n",
    "tf = tf_vectorizer.fit_transform(review_text)\n",
    "\n",
    "tfidf_feature_names = tfidf_vectorizer.get_feature_names()\n",
    "print(\"Number of total features: {}\".format(len(tfidf_feature_names)))"
   ]
  },
  {
   "cell_type": "markdown",
   "metadata": {},
   "source": [
    "## Build Clustering Models:\n",
    "### Latent Dirichlet Allocation (LDA)\n"
   ]
  },
  {
   "cell_type": "code",
   "execution_count": 68,
   "metadata": {
    "collapsed": true
   },
   "outputs": [],
   "source": [
    "# Initialize Ida\n",
    "lda = LatentDirichletAllocation(n_topics=10, max_iter=5,\n",
    "                                learning_method='online',\n",
    "                                learning_offset=50.,\n",
    "                                random_state=0)"
   ]
  },
  {
   "cell_type": "code",
   "execution_count": 69,
   "metadata": {
    "collapsed": true
   },
   "outputs": [],
   "source": [
    "\n",
    "num_top_words = 15\n",
    "\n",
    "def retrieve_top_words(model, feature_names, num_top_words):\n",
    "    for idx, topic in enumerate(model.components_):\n",
    "        print(\"Topic #{}:\".format(idx), end='\\n')\n",
    "        print(\" \".join([feature_names[i]\n",
    "                        for i in topic.argsort()[:-num_top_words - 1:-1]]), end='\\n\\n')\n",
    "    print()"
   ]
  },
  {
   "cell_type": "markdown",
   "metadata": {},
   "source": [
    "### Latent Dirichlet Allocation (LDA) with tf\n",
    "\n",
    "In more detail, LDA represents documents as mixtures of topics that spit out words with certain probabilities. It assumes that documents are produced in the following fashion: when writing each document, you\n",
    "\n",
    "- Decide on the number of words N the document will have (say, according to a Poisson distribution).\n",
    "- Choose a topic mixture for the document (according to a Dirichlet distribution over a fixed set of K topics). For example, assuming that we have the two food and cute animal topics above, you might choose the document to consist of 1/3 food and 2/3 cute animals.\n",
    "- Generate each word w_i in the document by: \n",
    "\n",
    "    - First picking a topic (according to the multinomial distribution that you sampled above; for example, you might pick the food topic with 1/3 probability and the cute animals topic with 2/3 probability).\n",
    "    \n",
    "    - Using the topic to generate the word itself (according to the topic’s multinomial distribution). For example, if we selected the food topic, we might generate the word “broccoli” with 30% probability, “bananas” with 15% probability, and so on.\n",
    "\n",
    "Assuming this generative model for a collection of documents, LDA then tries to backtrack from the documents to find a set of topics that are likely to have generated the collection."
   ]
  },
  {
   "cell_type": "code",
   "execution_count": 75,
   "metadata": {},
   "outputs": [
    {
     "data": {
      "text/plain": [
       "Counter({0: 10082,\n",
       "         1: 95713,\n",
       "         2: 16035,\n",
       "         3: 13548,\n",
       "         4: 21924,\n",
       "         5: 113658,\n",
       "         6: 12375,\n",
       "         7: 36156,\n",
       "         8: 8393,\n",
       "         9: 18471})"
      ]
     },
     "execution_count": 75,
     "metadata": {},
     "output_type": "execute_result"
    }
   ],
   "source": [
    "lda_tf = lda.fit(tf)\n",
    "lda_ = lda_tf.transform(tf)\n",
    "Counter([np.argmax(i) for i in lda_])"
   ]
  },
  {
   "cell_type": "code",
   "execution_count": 76,
   "metadata": {},
   "outputs": [
    {
     "name": "stdout",
     "output_type": "stream",
     "text": [
      "Topic #0:\n",
      "batteries battery unit scale device review charge amazon one use easy pressure power accurate monitor\n",
      "\n",
      "Topic #1:\n",
      "great use one good like well price product get easy brush much would really love\n",
      "\n",
      "Topic #2:\n",
      "weight get time back first day two one minutes extra go even days lost next\n",
      "\n",
      "Topic #3:\n",
      "soft fit back comfortable size feet wear put use around support pain small pads enough\n",
      "\n",
      "Topic #4:\n",
      "razor skin shave hair shaving shaver face blades use trimmer blade smooth cream used close\n",
      "\n",
      "Topic #5:\n",
      "product like would really one good well work much try feel tried better great get\n",
      "\n",
      "Topic #6:\n",
      "taking take product pain 8217 day omega pills doctor heart blood effects relief health pill\n",
      "\n",
      "Topic #7:\n",
      "taste oil supplement vitamin take supplements energy good like protein fish flavor ingredients eat vitamins\n",
      "\n",
      "Topic #8:\n",
      "sleep night cold help helps light use bed also morning wake eyes drops nose hours\n",
      "\n",
      "Topic #9:\n",
      "34 smell scent clean use water paper like cleaning clothes detergent deodorant cleaner fresh smells\n",
      "\n",
      "\n"
     ]
    }
   ],
   "source": [
    "retrieve_top_words(lda_tf, tfidf_feature_names, num_top_words)"
   ]
  },
  {
   "cell_type": "markdown",
   "metadata": {},
   "source": [
    "## Summary\n",
    "\n",
    "Topics LDA are listed above. Topics identifed can be grouped under the below broader category.\n",
    "\n",
    "- HEALTH CARE\n",
    "- FITNESS\n",
    "- PERSONAL CARE\n",
    "- BEAUTY PRODUCT\n",
    "- SKIN CARE\n",
    "- MEDICINE\n"
   ]
  },
  {
   "cell_type": "markdown",
   "metadata": {},
   "source": [
    "YouTube Link : https://youtu.be/-3oHfTLC4zY"
   ]
  },
  {
   "cell_type": "markdown",
   "metadata": {},
   "source": [
    "#### References\n",
    "\n",
    "https://medium.com/@Vishwacorp/nlp-analysis-of-yelp-restaurant-reviews-30b3d0e424a6\n",
    "\n",
    "https://github.com/xkong100/Data620_Team3/tree/master/final_Project\n",
    "\n",
    "https://github.com/jeremygrace/amazon-reviews/blob/master/sentiment-topic_modeling/Amazon_Reviews.ipynb\n",
    "\n",
    "https://www.youtube.com/watch?v=3mHy4OSyRf0\n",
    "\n",
    "https://medium.com/ml2vec/topic-modeling-is-an-unsupervised-learning-approach-to-clustering-documents-to-discover-topics-fdfbf30e27df"
   ]
  }
 ],
 "metadata": {
  "kernelspec": {
   "display_name": "Python 3",
   "language": "python",
   "name": "python3"
  },
  "language_info": {
   "codemirror_mode": {
    "name": "ipython",
    "version": 3
   },
   "file_extension": ".py",
   "mimetype": "text/x-python",
   "name": "python",
   "nbconvert_exporter": "python",
   "pygments_lexer": "ipython3",
   "version": "3.6.1"
  },
  "varInspector": {
   "cols": {
    "lenName": 16,
    "lenType": 16,
    "lenVar": 40
   },
   "kernels_config": {
    "python": {
     "delete_cmd_postfix": "",
     "delete_cmd_prefix": "del ",
     "library": "var_list.py",
     "varRefreshCmd": "print(var_dic_list())"
    },
    "r": {
     "delete_cmd_postfix": ") ",
     "delete_cmd_prefix": "rm(",
     "library": "var_list.r",
     "varRefreshCmd": "cat(var_dic_list()) "
    }
   },
   "position": {
    "height": "1171px",
    "left": "1863px",
    "right": "-10px",
    "top": "110px",
    "width": "707px"
   },
   "types_to_exclude": [
    "module",
    "function",
    "builtin_function_or_method",
    "instance",
    "_Feature"
   ],
   "window_display": true
  }
 },
 "nbformat": 4,
 "nbformat_minor": 2
}
